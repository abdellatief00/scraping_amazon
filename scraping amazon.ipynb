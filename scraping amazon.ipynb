{
 "cells": [
  {
   "cell_type": "markdown",
   "id": "80525561",
   "metadata": {},
   "source": [
    "## Amaon web scraper "
   ]
  },
  {
   "cell_type": "markdown",
   "id": "8f2cbeaa",
   "metadata": {},
   "source": [
    "# with :\n",
    "#### beautifulsoup\n",
    "#### selenium\n"
   ]
  },
  {
   "cell_type": "code",
   "execution_count": 3,
   "id": "ee65f619",
   "metadata": {},
   "outputs": [],
   "source": [
    "import csv\n",
    "from bs4 import BeautifulSoup"
   ]
  },
  {
   "cell_type": "code",
   "execution_count": 8,
   "id": "7851ed0e",
   "metadata": {},
   "outputs": [],
   "source": [
    "# firefox and chrom\n",
    "from selenium import webdriver "
   ]
  },
  {
   "cell_type": "markdown",
   "id": "e444f5dd",
   "metadata": {},
   "source": [
    "# startup the web driver "
   ]
  },
  {
   "cell_type": "code",
   "execution_count": 16,
   "id": "16ff2161",
   "metadata": {},
   "outputs": [],
   "source": [
    "driver = webdriver.Firefox()\n",
    "driver = webdriver.Chrome()"
   ]
  },
  {
   "cell_type": "code",
   "execution_count": 17,
   "id": "8626cb4f",
   "metadata": {},
   "outputs": [],
   "source": [
    "url = 'https://www.amazon.com'\n",
    "driver.get(url)"
   ]
  },
  {
   "cell_type": "code",
   "execution_count": 18,
   "id": "2984def1",
   "metadata": {},
   "outputs": [],
   "source": [
    "def get_url(search_term):\n",
    "    \"\"\"generate a url from a search term\"\"\"\n",
    "    template = 'https://www.amazon.com/s?k={}'\n",
    "    search_term = search_term.replace(' ', '+')\n",
    "    return template.format(search_term)"
   ]
  },
  {
   "cell_type": "code",
   "execution_count": 19,
   "id": "52a3c271",
   "metadata": {},
   "outputs": [
    {
     "name": "stdout",
     "output_type": "stream",
     "text": [
      "https://www.amazon.com/s?k=ultrawide+mpnitor\n"
     ]
    }
   ],
   "source": [
    "url =get_url('ultrawide mpnitor')\n",
    "print(url)"
   ]
  },
  {
   "cell_type": "code",
   "execution_count": 20,
   "id": "a4dcada0",
   "metadata": {},
   "outputs": [],
   "source": [
    "driver.get(url)"
   ]
  },
  {
   "cell_type": "markdown",
   "id": "22cec45e",
   "metadata": {},
   "source": [
    "## extract the collection"
   ]
  },
  {
   "cell_type": "code",
   "execution_count": 22,
   "id": "2bbea666",
   "metadata": {},
   "outputs": [],
   "source": [
    "soup = BeautifulSoup(driver.page_source, 'html.parser')"
   ]
  },
  {
   "cell_type": "code",
   "execution_count": 23,
   "id": "96549ac8",
   "metadata": {},
   "outputs": [],
   "source": [
    "results = soup.find_all('div',{'data-component-type':'s-search-result'})"
   ]
  },
  {
   "cell_type": "code",
   "execution_count": 24,
   "id": "42091d21",
   "metadata": {},
   "outputs": [
    {
     "data": {
      "text/plain": [
       "22"
      ]
     },
     "execution_count": 24,
     "metadata": {},
     "output_type": "execute_result"
    }
   ],
   "source": [
    "len(results)"
   ]
  },
  {
   "cell_type": "markdown",
   "id": "36ff8d91",
   "metadata": {},
   "source": [
    "## prototype the record "
   ]
  },
  {
   "cell_type": "code",
   "execution_count": 40,
   "id": "b89cb5ba",
   "metadata": {},
   "outputs": [],
   "source": [
    "item = results[0]\n",
    "atag = item.h2.a\n",
    "description = atag.text.strip()\n",
    "url = 'https://www.amazon.com'+atag.get('href')"
   ]
  },
  {
   "cell_type": "code",
   "execution_count": 41,
   "id": "395c8b30",
   "metadata": {},
   "outputs": [
    {
     "name": "stdout",
     "output_type": "stream",
     "text": [
      "$299.99\n"
     ]
    }
   ],
   "source": [
    "price_parent = item.find('span','a-price')\n",
    "price = price_parent.find('span', 'a-offscreen').text\n",
    "print(price)"
   ]
  },
  {
   "cell_type": "code",
   "execution_count": 42,
   "id": "c945f7fa",
   "metadata": {},
   "outputs": [
    {
     "name": "stdout",
     "output_type": "stream",
     "text": [
      "4.6 out of 5 stars\n"
     ]
    }
   ],
   "source": [
    "rating = item.i.text\n",
    "print(rating)"
   ]
  },
  {
   "cell_type": "code",
   "execution_count": 53,
   "id": "31b47032",
   "metadata": {},
   "outputs": [
    {
     "name": "stdout",
     "output_type": "stream",
     "text": [
      "768\n"
     ]
    }
   ],
   "source": [
    "review_count = item.find('span',{'class':'a-size-base s-underline-text'}).text\n",
    "review_count = review_count.translate({ord(i): None for i in '()'})\n",
    "print(review_count)"
   ]
  },
  {
   "cell_type": "markdown",
   "id": "bfb2a2c8",
   "metadata": {},
   "source": [
    "## generalize the pattern"
   ]
  },
  {
   "cell_type": "code",
   "execution_count": 54,
   "id": "24a85e79",
   "metadata": {},
   "outputs": [],
   "source": [
    "def extract_record(item):\n",
    "    \"\"\"Extract and return data from a single record\"\"\"\n",
    "    \n",
    "    #description and url \n",
    "    atag = item.h2.a\n",
    "    description = atag.text.strip()\n",
    "    url = 'https://www.amazon.com'+atag.get('href')\n",
    "    \n",
    "    #price \n",
    "    try:   \n",
    "        price_parent = item.find('span','a-price')\n",
    "        price = price_parent.find('span', 'a-offscreen').text\n",
    "    except AttributeError:\n",
    "        return\n",
    "    \n",
    "    #rating\n",
    "    try:\n",
    "        rating = item.i.text\n",
    "        review_count = item.find('span',{'class':'a-size-base s-underline-text'}).text\n",
    "        review_count = review_count.translate({ord(i): None for i in '()'})\n",
    "    except AttributeError:\n",
    "        rating = ''\n",
    "        review_count =''\n",
    "        \n",
    "    result = (description , price , rating , review_count ,url)\n",
    "    \n",
    "    return result"
   ]
  },
  {
   "cell_type": "code",
   "execution_count": 55,
   "id": "a8b5dfba",
   "metadata": {},
   "outputs": [],
   "source": [
    "records = []\n",
    "results = soup.find_all('div',{'data-component-type':'s-search-result'})\n",
    "for item in results:\n",
    "    record = extract_record(item)\n",
    "    if record:\n",
    "        records.append(record)"
   ]
  },
  {
   "cell_type": "code",
   "execution_count": 56,
   "id": "cf88ab02",
   "metadata": {},
   "outputs": [
    {
     "data": {
      "text/plain": [
       "('LG 2023 Newest 29 Inch WFHD IPS Ultra Wide Monitor, Dual Speakers, 2560x1080, 99% sRGB, HDR10, FreeSync, 21 9, Wall Mountable, 75Hz Refresh Rate Bundle with JAWFOAL',\n",
       " '$299.99',\n",
       " '4.6 out of 5 stars',\n",
       " '40',\n",
       " 'https://www.amazon.com/gp/slredirect/picassoRedirect.html/ref=pa_sp_atf_aps_sr_pg1_1?ie=UTF8&adId=A083737826KZ3N881O4TS&qualifier=1676913429&id=1585949287652918&widgetName=sp_atf&url=%2FLG-inch-UltraWide-FreeSync-Monitor%2Fdp%2FB08CL1JKJ2%2Fref%3Dsr_1_1_sspa%3Fkeywords%3Dultrawide%2Bmonitor%26qid%3D1676913429%26sr%3D8-1-spons%26psc%3D1%26smid%3DA3JPM3Q1OKJJPX')"
      ]
     },
     "execution_count": 56,
     "metadata": {},
     "output_type": "execute_result"
    }
   ],
   "source": [
    "records[0]"
   ]
  },
  {
   "cell_type": "code",
   "execution_count": 57,
   "id": "8502d7a7",
   "metadata": {},
   "outputs": [
    {
     "name": "stdout",
     "output_type": "stream",
     "text": [
      "$299.99\n",
      "$299.99\n",
      "$259.38\n",
      "$196.99\n",
      "$399.99\n",
      "$379.99\n",
      "$196.99\n",
      "$446.00\n",
      "$336.99\n",
      "$169.99\n",
      "$329.00\n",
      "$229.99\n",
      "$339.99\n",
      "$246.99\n",
      "$296.99\n",
      "$349.99\n",
      "$199.99\n",
      "$219.77\n",
      "$199.99\n",
      "$349.99\n",
      "$99.99\n",
      "$158.99\n"
     ]
    }
   ],
   "source": [
    "for row in records:\n",
    "    print(row[1])"
   ]
  },
  {
   "cell_type": "markdown",
   "id": "0fa6ee1d",
   "metadata": {},
   "source": [
    "## getting to the next page "
   ]
  },
  {
   "cell_type": "code",
   "execution_count": 58,
   "id": "19d09863",
   "metadata": {},
   "outputs": [],
   "source": [
    "def get_url(search_term):\n",
    "    \"\"\"generate a url from a search term\"\"\"\n",
    "    template = 'https://www.amazon.com/s?k={}'\n",
    "    search_term = search_term.replace(' ', '+')\n",
    "    \n",
    "    # add term query to url\n",
    "    url = template.format(search_term)\n",
    "    \n",
    "    #add page query to url\n",
    "    url += '&page{}'\n",
    "    \n",
    "    return url\n",
    "     "
   ]
  },
  {
   "cell_type": "markdown",
   "id": "c0ea2a10",
   "metadata": {},
   "source": [
    "## putting all together "
   ]
  },
  {
   "cell_type": "code",
   "execution_count": 71,
   "id": "b5d17d74",
   "metadata": {},
   "outputs": [],
   "source": [
    "import csv\n",
    "from bs4 import BeautifulSoup\n",
    "from selenium import webdriver \n",
    "\n",
    "def get_url(search_term):\n",
    "    \"\"\"generate a url from a search term\"\"\"\n",
    "    template = 'https://www.amazon.com/s?k={}'\n",
    "    search_term = search_term.replace(' ', '+')\n",
    "    \n",
    "    # add term query to url\n",
    "    url = template.format(search_term)\n",
    "    \n",
    "    #add page query to url\n",
    "    url += '&page{}'\n",
    "    \n",
    "    return url\n",
    "\n",
    "def extract_record(item):\n",
    "    \"\"\"Extract and return data from a single record\"\"\"\n",
    "    \n",
    "    #description and url \n",
    "    atag = item.h2.a\n",
    "    description = atag.text.strip()\n",
    "    url = 'https://www.amazon.com'+atag.get('href')\n",
    "    \n",
    "    #price \n",
    "    try:   \n",
    "        price_parent = item.find('span','a-price')\n",
    "        price = price_parent.find('span', 'a-offscreen').text\n",
    "    except AttributeError:\n",
    "        return\n",
    "    \n",
    "    #rating\n",
    "    try:\n",
    "        rating = item.i.text\n",
    "        review_count = item.find('span',{'class':'a-size-base s-underline-text'}).text\n",
    "        review_count = review_count.translate({ord(i): None for i in '()'})\n",
    "    except AttributeError:\n",
    "        rating = ''\n",
    "        review_count =''\n",
    "        \n",
    "    result = (description , price , rating , review_count ,url)\n",
    "    \n",
    "    return result\n",
    "\n",
    "def main(search_term):\n",
    "    \"\"\"Run main program routing\"\"\"\n",
    "    #startup the webdriver \n",
    "    #driver = webdriver.Firefox()\n",
    "    driver = webdriver.Chrome()\n",
    "    \n",
    "    records = []\n",
    "    url = get_url(search_term)\n",
    "    \n",
    "    for page in range(1 , 21):\n",
    "        driver.get(url.format(page))\n",
    "        soup = BeautifulSoup(driver.page_source,'html.parser')\n",
    "        results = soup.find_all('div',{'data-component-type':'s-search-result'})\n",
    "        \n",
    "        for item in results:\n",
    "            record = extract_record(item)\n",
    "            if record:\n",
    "                records.append(record)\n",
    "    driver.close()\n",
    "        \n",
    "        #save the data to csv file\n",
    "    with open('results.csv', 'w',newline ='',encoding ='utf-8') as f :\n",
    "        writer = csv.writer(f)\n",
    "        writer.writerow(['Description','Price','Rating','ReviewCount' ,'URL'])\n",
    "        writer.writerows(records)\n",
    "            "
   ]
  },
  {
   "cell_type": "code",
   "execution_count": 72,
   "id": "039175e1",
   "metadata": {},
   "outputs": [],
   "source": [
    "main('ultrawide monitor')"
   ]
  },
  {
   "cell_type": "code",
   "execution_count": null,
   "id": "1678d8de",
   "metadata": {},
   "outputs": [],
   "source": []
  }
 ],
 "metadata": {
  "kernelspec": {
   "display_name": "Python 3 (ipykernel)",
   "language": "python",
   "name": "python3"
  },
  "language_info": {
   "codemirror_mode": {
    "name": "ipython",
    "version": 3
   },
   "file_extension": ".py",
   "mimetype": "text/x-python",
   "name": "python",
   "nbconvert_exporter": "python",
   "pygments_lexer": "ipython3",
   "version": "3.10.5"
  }
 },
 "nbformat": 4,
 "nbformat_minor": 5
}
